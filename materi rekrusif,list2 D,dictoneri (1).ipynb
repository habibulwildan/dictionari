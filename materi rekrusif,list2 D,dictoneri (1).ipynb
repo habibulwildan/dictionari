{
 "cells": [
  {
   "cell_type": "code",
   "execution_count": 1,
   "id": "3f405bf4",
   "metadata": {},
   "outputs": [
    {
     "name": "stdout",
     "output_type": "stream",
     "text": [
      "masukkan angka:2\n",
      "2\n"
     ]
    }
   ],
   "source": [
    "def faktorial(a):\n",
    "    hasil=1\n",
    "    for i in range(a,0,-1):\n",
    "        hasil=hasil*i\n",
    "    return hasil\n",
    "p=int(input(\"masukkan angka:\"))\n",
    "print(faktorial(p))"
   ]
  },
  {
   "cell_type": "code",
   "execution_count": 2,
   "id": "37693c5f",
   "metadata": {},
   "outputs": [
    {
     "name": "stdout",
     "output_type": "stream",
     "text": [
      "masukkan angka:4\n",
      "24\n"
     ]
    }
   ],
   "source": [
    "def faktorial(a):\n",
    "    hasil=1\n",
    "    for i in range(1,a+1):\n",
    "        hasil=hasil*i\n",
    "    return hasil\n",
    "p=int(input(\"masukkan angka:\"))\n",
    "print(faktorial(p))"
   ]
  },
  {
   "cell_type": "code",
   "execution_count": 10,
   "id": "ba9b07d3",
   "metadata": {},
   "outputs": [
    {
     "name": "stdout",
     "output_type": "stream",
     "text": [
      "masukkan angka:5\n",
      "120\n"
     ]
    }
   ],
   "source": [
    "def faktorial(a):\n",
    "    if a==1:\n",
    "        return 1\n",
    "    else:\n",
    "        return a*faktorial(a-1)\n",
    "p=int(input(\"masukkan angka:\"))\n",
    "print(faktorial(p))"
   ]
  },
  {
   "cell_type": "code",
   "execution_count": 1,
   "id": "20a93706",
   "metadata": {},
   "outputs": [
    {
     "name": "stdout",
     "output_type": "stream",
     "text": [
      "masukkan angka:2\n",
      "masukkan pangkat:3\n",
      "4\n",
      "8\n",
      "4\n",
      "8\n"
     ]
    }
   ],
   "source": [
    "def pangkat (n,x):\n",
    "    if x==1:\n",
    "        return n\n",
    "    else :\n",
    "        print(n*pangkat(n,x-1))\n",
    "        return n*pangkat(n,x-1)\n",
    "a=int(input(\"masukkan angka:\"))\n",
    "b=int(input(\"masukkan pangkat:\"))\n",
    "print(pangkat(a,b))"
   ]
  },
  {
   "cell_type": "code",
   "execution_count": 14,
   "id": "2f3ede86",
   "metadata": {},
   "outputs": [
    {
     "name": "stdout",
     "output_type": "stream",
     "text": [
      "masukkan angka:5\n",
      "8\n"
     ]
    }
   ],
   "source": [
    "def fibonaci (n):\n",
    "    if n==0 or n==1:\n",
    "        return 1\n",
    "    else:\n",
    "        return fibonaci(n-1)+fibonaci(n-2)\n",
    "print(fibonaci(int(input(\"masukkan angka:\"))))\n",
    "        \n",
    "    "
   ]
  },
  {
   "cell_type": "code",
   "execution_count": 11,
   "id": "a4597f74",
   "metadata": {},
   "outputs": [],
   "source": [
    "def maks(nilai):\n",
    "    if len (nilai)==1:\n",
    "        return nilai[0]\n",
    "    else:\n",
    "        print(\"perbandingan: \",nilai[0],\">\",nilai[1:])\n",
    "        if nilai[0]>maks(nilai[1:]):\n",
    "            return nilai[0]\n",
    "        else:\n",
    "            return maks(nilai[1:])\n"
   ]
  },
  {
   "cell_type": "code",
   "execution_count": 12,
   "id": "116134e9",
   "metadata": {},
   "outputs": [
    {
     "name": "stdout",
     "output_type": "stream",
     "text": [
      "perbandingan:  3 > [10, 15, 12, 11, 9]\n",
      "perbandingan:  10 > [15, 12, 11, 9]\n",
      "perbandingan:  15 > [12, 11, 9]\n",
      "perbandingan:  12 > [11, 9]\n",
      "perbandingan:  11 > [9]\n",
      "perbandingan:  15 > [12, 11, 9]\n",
      "perbandingan:  12 > [11, 9]\n",
      "perbandingan:  11 > [9]\n",
      "perbandingan:  10 > [15, 12, 11, 9]\n",
      "perbandingan:  15 > [12, 11, 9]\n",
      "perbandingan:  12 > [11, 9]\n",
      "perbandingan:  11 > [9]\n",
      "perbandingan:  15 > [12, 11, 9]\n",
      "perbandingan:  12 > [11, 9]\n",
      "perbandingan:  11 > [9]\n"
     ]
    },
    {
     "data": {
      "text/plain": [
       "15"
      ]
     },
     "execution_count": 12,
     "metadata": {},
     "output_type": "execute_result"
    }
   ],
   "source": [
    "a=[3,10,15,12,11,9]\n",
    "maks(a)"
   ]
  },
  {
   "cell_type": "code",
   "execution_count": 3,
   "id": "bdef83b4",
   "metadata": {},
   "outputs": [
    {
     "name": "stdout",
     "output_type": "stream",
     "text": [
      "masukkan banyak beris :2\n",
      "masukkan banyak kolom :3\n",
      "baris ke-1  kolom ke-1 :7\n",
      "baris ke-1  kolom ke-2 :3\n",
      "baris ke-1  kolom ke-3 :8\n",
      "baris ke-2  kolom ke-1 :3\n",
      "baris ke-2  kolom ke-2 :1\n",
      "baris ke-2  kolom ke-3 :5\n",
      "[[7, 3, 8], [3, 1, 5]]\n"
     ]
    }
   ],
   "source": [
    "def dimensi (a,b):\n",
    "    tampung=[]\n",
    "    for i in range(1,a+1):\n",
    "        bk=[]\n",
    "        for c in range(1,b+1):\n",
    "            temp=int(input(f\"baris ke-{i}  kolom ke-{c} :\"))\n",
    "            bk.append(temp)\n",
    "        tampung.append(bk)\n",
    "    return tampung\n",
    "\n",
    "b=int(input(\"masukkan banyak beris :\"))\n",
    "k=int(input(\"masukkan banyak kolom :\"))\n",
    "print(dimensi(b,k))\n",
    "    "
   ]
  },
  {
   "cell_type": "markdown",
   "id": "a888f112",
   "metadata": {},
   "source": [
    "\n"
   ]
  },
  {
   "cell_type": "code",
   "execution_count": 1,
   "id": "f61737d6",
   "metadata": {},
   "outputs": [
    {
     "name": "stdout",
     "output_type": "stream",
     "text": [
      "masukkan banyak list1 :3\n",
      "masukkan banyak list2 :4\n",
      "huruf ke- :5\n",
      "huruf ke- :6\n",
      "huruf ke- :6\n",
      "huruf ke-6\n",
      "huruf ke-6\n",
      "huruf ke-6\n",
      "huruf ke-6\n",
      "([6, 6, 6, 6], [5, 6, 6])\n"
     ]
    }
   ],
   "source": [
    "def pkl (a,b):\n",
    "    list1=[]\n",
    "    list2=[]\n",
    "    for i in range(a):\n",
    "        temp=int(input(\"huruf ke- :\"))\n",
    "        list1.append(temp)\n",
    "    for c in range(b):\n",
    "        tem=int(input(\"huruf ke-\"))\n",
    "        list2.append(tem)\n",
    "    return list2,list1\n",
    "\n",
    "a=int(input(\"masukkan banyak list1 :\"))\n",
    "b=int(input(\"masukkan banyak list2 :\"))\n",
    "print(pkl(a,b))\n"
   ]
  },
  {
   "cell_type": "code",
   "execution_count": null,
   "id": "eecffdde",
   "metadata": {},
   "outputs": [],
   "source": [
    "def list2dto1d(temp):\n",
    "    list1=[]\n",
    "    for i in temp:\n",
    "        for c in i:\n",
    "            list1.append(c)\n",
    "    return list1\n",
    "a=[[1,2,3],[2,3,4]]\n",
    "print(\"list 2D\",a)\n",
    "print(\"list 1D\",list2dto1d(a))"
   ]
  },
  {
   "cell_type": "code",
   "execution_count": 21,
   "id": "916a7054",
   "metadata": {},
   "outputs": [
    {
     "name": "stdout",
     "output_type": "stream",
     "text": [
      "masukkan banyak beris :3\n",
      "masukkan banyak kolom :3\n",
      "baris ke-1  kolom ke-1 :2\n",
      "baris ke-1  kolom ke-2 :3\n",
      "baris ke-1  kolom ke-3 :4\n",
      "baris ke-2  kolom ke-1 :2\n",
      "baris ke-2  kolom ke-2 :3\n",
      "baris ke-2  kolom ke-3 :4\n",
      "baris ke-3  kolom ke-1 :4\n",
      "baris ke-3  kolom ke-2 :4\n",
      "baris ke-3  kolom ke-3 :4\n",
      "list 2D [[2, 3, 4], [2, 3, 4], [4, 4, 4]]\n",
      "list 1D [2, 3, 4, 2, 3, 4, 4, 4, 4]\n"
     ]
    }
   ],
   "source": [
    "def dimensi (a,b):\n",
    "    tampung=[]\n",
    "    for i in range(1,a+1):\n",
    "        bk=[]\n",
    "        for c in range(1,b+1):\n",
    "            temp=int(input(f\"baris ke-{i}  kolom ke-{c} :\"))\n",
    "            bk.append(temp)\n",
    "        tampung.append(bk)\n",
    "    return tampung\n",
    "def list2dto1d(temp):\n",
    "    list1=[]\n",
    "    for i in temp:\n",
    "        for c in i:\n",
    "            list1.append(c)\n",
    "    return list1\n",
    "b=int(input(\"masukkan banyak beris :\"))\n",
    "k=int(input(\"masukkan banyak kolom :\"))\n",
    "a=dimensi(b,k)\n",
    "b=list2dto1d(a)\n",
    "print(\"list 2D\",a)\n",
    "print(\"list 1D\",b)\n",
    "    "
   ]
  },
  {
   "cell_type": "code",
   "execution_count": 50,
   "id": "5f7c972c",
   "metadata": {},
   "outputs": [
    {
     "name": "stdout",
     "output_type": "stream",
     "text": [
      "1\n",
      "3\n",
      "2\n",
      "1\n",
      "3\n",
      "3\n"
     ]
    }
   ],
   "source": [
    "a=[[1,2,3],[3,1,3]]\n",
    "for i in range(len(a[0])):\n",
    "    for c in range(len(a)):\n",
    "        print(a[c][i])"
   ]
  },
  {
   "cell_type": "code",
   "execution_count": null,
   "id": "ba6005fd",
   "metadata": {},
   "outputs": [],
   "source": [
    "a=[[1,2,3],[3,1,3]]"
   ]
  },
  {
   "cell_type": "code",
   "execution_count": 62,
   "id": "05271a48",
   "metadata": {},
   "outputs": [
    {
     "name": "stdout",
     "output_type": "stream",
     "text": [
      "0 0 0 0 \n",
      "0 3 0 0 \n",
      "\n"
     ]
    }
   ],
   "source": [
    "def list2d(temp):\n",
    "    a=\"\"\n",
    "    for i in range(len(temp)):\n",
    "        a1=\"\"\n",
    "        for c in range(len(temp[0])):\n",
    "            h=temp[i][c]\n",
    "            a1=a1+str(h)+\" \"\n",
    "        a=a+a1+\"\\n\"\n",
    "    return a\n",
    "k=[[0,0,0,0],[0,3,0,0,0]]\n",
    "print(list2d(k))\n",
    "        "
   ]
  },
  {
   "cell_type": "code",
   "execution_count": 18,
   "id": "b6d5a6d7",
   "metadata": {},
   "outputs": [
    {
     "data": {
      "text/plain": [
       "'mera'"
      ]
     },
     "execution_count": 18,
     "metadata": {},
     "output_type": "execute_result"
    }
   ],
   "source": [
    "# dictinorec\n",
    "#key nya gak bole sama\n",
    "warna={'red':'mera','blue':'biru','yellow':'kuning'}\n",
    "warna['red']\n",
    "\n"
   ]
  },
  {
   "cell_type": "code",
   "execution_count": 30,
   "id": "eee8e392",
   "metadata": {},
   "outputs": [
    {
     "name": "stdout",
     "output_type": "stream",
     "text": [
      "mera\n",
      "dict_keys(['red', 'blue', 'yellow'])\n",
      "dict_values(['mera', 'biru', 'kuning'])\n"
     ]
    }
   ],
   "source": [
    "# dictinorec\n",
    "#key nya gak bole sama\n",
    "warna={'red':'mera','blue':'biru','yellow':'kuning'}\n",
    "print(warna[\"red\"])\n",
    "print(warna.keys())\n",
    "print(warna.values())\n"
   ]
  },
  {
   "cell_type": "code",
   "execution_count": 31,
   "id": "a257086c",
   "metadata": {},
   "outputs": [
    {
     "name": "stdout",
     "output_type": "stream",
     "text": [
      "mera\n",
      "biru\n",
      "kuning\n"
     ]
    }
   ],
   "source": [
    "for k in warna.keys():\n",
    "    print(warna[k])"
   ]
  },
  {
   "cell_type": "code",
   "execution_count": 40,
   "id": "9c12309c",
   "metadata": {},
   "outputs": [
    {
     "name": "stdout",
     "output_type": "stream",
     "text": [
      "biru\n"
     ]
    }
   ],
   "source": [
    "print(warna.get('blue'))"
   ]
  },
  {
   "cell_type": "code",
   "execution_count": 41,
   "id": "d64319f6",
   "metadata": {},
   "outputs": [
    {
     "name": "stdout",
     "output_type": "stream",
     "text": [
      "None\n"
     ]
    }
   ],
   "source": [
    "print(warna.get('gren'))"
   ]
  },
  {
   "cell_type": "code",
   "execution_count": 53,
   "id": "0a59ef6e",
   "metadata": {},
   "outputs": [
    {
     "name": "stdout",
     "output_type": "stream",
     "text": [
      "masukkan baris3\n",
      "masukkan kolom3\n",
      "baris 1 ,1 1\n",
      "baris 1 ,2 0\n",
      "baris 1 ,3 0\n",
      "baris 2 ,1 0\n",
      "baris 2 ,2 9\n",
      "baris 2 ,3 8\n",
      "baris 3 ,1 0\n",
      "baris 3 ,2 0\n",
      "baris 3 ,3 0\n",
      "[[1, 0, 0], [0, 9, 8], [0, 0, 0]]\n"
     ]
    }
   ],
   "source": [
    "a=int(input(\"masukkan baris\"))\n",
    "b=int(input(\"masukkan kolom\"))\n",
    "kumpul=[]\n",
    "for i in range(1,a+1):\n",
    "    list1=[]\n",
    "    for c in range(1,b+1):\n",
    "        temp=int(input(f\"baris {i} ,{c} \"))\n",
    "        list1.append(temp)\n",
    "    kumpul.append(list1)\n",
    "print(kumpul)"
   ]
  },
  {
   "cell_type": "code",
   "execution_count": 4,
   "id": "7bb90f28",
   "metadata": {},
   "outputs": [
    {
     "name": "stdout",
     "output_type": "stream",
     "text": [
      "0 0 0 0 0 \n",
      "0 3 0 0 0 \n",
      "0 0 0 0 0 \n",
      "0 0 0 5 0 \n",
      "\n"
     ]
    }
   ],
   "source": [
    "def list2d(temp):\n",
    "    a=\"\"\n",
    "    for i in range(len(temp)):\n",
    "        a1=\"\"\n",
    "        for c in range(len(temp[0])):\n",
    "            h=temp[i][c]\n",
    "            a1=a1+str(h)+\" \"\n",
    "        a=a+a1+\"\\n\"\n",
    "    return a\n",
    "        \n",
    "mat1 = [[0,0,0,0,0],[0,3,0,0,0],[0,0,0,0,0],[0,0,0,5,0]]\n",
    "print(list2d(mat1))"
   ]
  },
  {
   "cell_type": "code",
   "execution_count": 64,
   "id": "86bbc1c4",
   "metadata": {},
   "outputs": [
    {
     "name": "stdout",
     "output_type": "stream",
     "text": [
      "{(1, 1): 3, (3, 3): 5, (2, 3): 10}\n"
     ]
    }
   ],
   "source": [
    "mat1 = [[0,0,0,0,0],[0,3,0,0,0],[0,0,0,0,0],[0,0,0,5,0]]\n",
    "matDict={(1,1):3,(3,3):5,(2,3):10}\n",
    "print(matDict)"
   ]
  },
  {
   "cell_type": "code",
   "execution_count": 50,
   "id": "a691ca72",
   "metadata": {},
   "outputs": [
    {
     "name": "stdout",
     "output_type": "stream",
     "text": [
      "5\n",
      "None\n"
     ]
    }
   ],
   "source": [
    "print(matDict.get((3,3)))\n",
    "print(matDict.get((0,0)))"
   ]
  },
  {
   "cell_type": "code",
   "execution_count": 67,
   "id": "b94829a9",
   "metadata": {},
   "outputs": [
    {
     "name": "stdout",
     "output_type": "stream",
     "text": [
      "0 0 0 0 0 \n",
      "0 3 0 0 0 \n",
      "0 0 0 10 0 \n",
      "0 0 0 5 0 \n",
      "\n"
     ]
    }
   ],
   "source": [
    "def display(dicData,baris,kolom):\n",
    "    temp=\"\"\n",
    "    for i in range(baris):\n",
    "#         print(i)\n",
    "        for j in range(kolom):\n",
    "#             print(j)\n",
    "            if dicData.get((i,j))==None:\n",
    "                temp+=\"0\"+\" \"\n",
    "            else:\n",
    "                temp+=str(dicData.get((i,j)))+\" \"\n",
    "        temp+=\"\\n\"\n",
    "    return temp\n",
    "print(display(matDict,4,5))"
   ]
  },
  {
   "cell_type": "code",
   "execution_count": 4,
   "id": "4b55021b",
   "metadata": {},
   "outputs": [
    {
     "name": "stdout",
     "output_type": "stream",
     "text": [
      "baris 0 0 2\n",
      "baris 0 1 2\n",
      "baris 0 2 3\n",
      "baris 1 0 4\n",
      "baris 1 1 5\n",
      "baris 1 2 6\n"
     ]
    },
    {
     "data": {
      "text/plain": [
       "[[2, 2, 3], [4, 5, 6]]"
      ]
     },
     "execution_count": 4,
     "metadata": {},
     "output_type": "execute_result"
    }
   ],
   "source": [
    "# membuat list duah dimensi\n",
    "def list2d (baris,kolom):\n",
    "    tampung=[]\n",
    "    for i in range(baris):\n",
    "        listdalam=[]\n",
    "        for c in range(kolom):\n",
    "            temp=int(input(f\"baris {i} {c} \"))\n",
    "            listdalam.append(temp)\n",
    "        tampung.append(listdalam)\n",
    "    return tampung\n",
    "list2d(2,3)"
   ]
  },
  {
   "cell_type": "code",
   "execution_count": 2,
   "id": "a8c4e816",
   "metadata": {},
   "outputs": [
    {
     "name": "stdout",
     "output_type": "stream",
     "text": [
      "1\n",
      "2\n",
      "3\n",
      "4\n",
      "2\n",
      "3\n",
      "4\n",
      "5\n"
     ]
    }
   ],
   "source": [
    "\n",
    "def l2dtamba (a):\n",
    "    tampung=[]\n",
    "    for i in range(len(a)):\n",
    "        for c in range(len(a[0])):\n",
    "            print(a[i][c])\n",
    "\n",
    "            \n",
    "l2dtamba([[1,2,3,4],[2,3,4,5]])\n"
   ]
  },
  {
   "cell_type": "code",
   "execution_count": 16,
   "id": "44101a15",
   "metadata": {},
   "outputs": [],
   "source": [
    "#pertambahan list 2d\n",
    "def list2d(list1,list2):\n",
    "    tampung=[]\n",
    "    for i in range(1,list1+1):\n",
    "        list1=[]\n",
    "        for c in range(1,list2+1):\n",
    "            list1.append(int(input(f\"baris {i} kolom {c} \")))\n",
    "        tampung.append(list1)\n",
    "    return tampung\n",
    "def tambah (d1,d2):\n",
    "    if len(d1)==len(d2) and len(d1[0])==len(d2[0]):\n",
    "        tampung=[]\n",
    "        for i in range(len(d1[0])):\n",
    "            data=[]\n",
    "            for c in range(len(d1)):\n",
    "                tambah=d1[i][c]+d2[i][c]\n",
    "                data.append(tambah)\n",
    "            tampung.append(data)\n",
    "        return tampung\n",
    "    else:\n",
    "        return \"list tidak sama\"\n"
   ]
  },
  {
   "cell_type": "code",
   "execution_count": 17,
   "id": "1d754a0d",
   "metadata": {},
   "outputs": [
    {
     "name": "stdout",
     "output_type": "stream",
     "text": [
      "baris 1 kolom 1 1\n",
      "baris 1 kolom 2 2\n",
      "baris 2 kolom 1 2\n",
      "baris 2 kolom 2 2\n",
      "baris 1 kolom 1 2\n",
      "baris 1 kolom 2 2\n",
      "baris 2 kolom 1 2\n",
      "baris 2 kolom 2 2\n",
      "[[1, 2], [2, 2]]\n",
      "[[2, 2], [2, 2]]\n",
      "[[3, 4], [4, 4]]\n"
     ]
    }
   ],
   "source": [
    "list1=list2d(2,2)\n",
    "list2=list2d(2,2)\n",
    "print(list1)\n",
    "print(list2)\n",
    "print(tambah(list1,list2))"
   ]
  },
  {
   "cell_type": "code",
   "execution_count": 25,
   "id": "43b9d6b3",
   "metadata": {},
   "outputs": [
    {
     "name": "stdout",
     "output_type": "stream",
     "text": [
      "0 0 0 0 0 \n",
      "0 3 0 0 0 \n",
      "0 0 0 0 0 \n",
      "0 0 0 5 0 \n",
      "\n"
     ]
    }
   ],
   "source": [
    "def strlist2d (list1):\n",
    "    kumpul=\"\"\n",
    "    for i in range(len(list1)):\n",
    "        string=\"\"\n",
    "        for w in range(len(list1[0])):\n",
    "            r=list1[i][w]\n",
    "            string=string+str(r)+\" \"\n",
    "        kumpul=kumpul+string+\"\\n\"\n",
    "    return kumpul\n",
    "mat1 = [[0,0,0,0,0],[0,3,0,0,0],[0,0,0,0,0],[0,0,0,5,0]]\n",
    "print(strlist2d(mat1))\n"
   ]
  },
  {
   "cell_type": "code",
   "execution_count": 3,
   "id": "530e68d4",
   "metadata": {},
   "outputs": [],
   "source": [
    "def list2d (a,b):\n",
    "    tampung=[]\n",
    "    for i in range(1,a+1):\n",
    "        list1=[]\n",
    "        for r in range(1,b+1):\n",
    "            list1.append(int(input(f\"baris {i} kolo {r} = \")))\n",
    "        tampung.append(list1)\n",
    "    return tampung\n"
   ]
  },
  {
   "cell_type": "code",
   "execution_count": 63,
   "id": "0a9441dd",
   "metadata": {},
   "outputs": [
    {
     "name": "stdout",
     "output_type": "stream",
     "text": [
      "masukkan baris = 2\n",
      "masukkan kolom = 4\n",
      "baris 1 kolo 1 = 1\n",
      "baris 1 kolo 2 = 2\n",
      "baris 1 kolo 3 = 3\n",
      "baris 1 kolo 4 = 4\n",
      "baris 2 kolo 1 = 1\n",
      "baris 2 kolo 2 = 2\n",
      "baris 2 kolo 3 = 3\n",
      "baris 2 kolo 4 = 4\n",
      "baris 1 kolo 1 = 1\n",
      "baris 1 kolo 2 = 2\n",
      "baris 1 kolo 3 = 3\n",
      "baris 1 kolo 4 = 4\n",
      "baris 2 kolo 1 = 1\n",
      "baris 2 kolo 2 = 2\n",
      "baris 2 kolo 3 = 3\n",
      "baris 2 kolo 4 = 4\n",
      "[[1, 2, 3, 4], [1, 2, 3, 4]]\n",
      "[[1, 2, 3, 4], [1, 2, 3, 4]]\n"
     ]
    }
   ],
   "source": [
    "a=int(input(\"masukkan baris = \"))\n",
    "g=int(input(\"masukkan kolom = \"))\n",
    "b=list2d(a,g)\n",
    "s=list2d(a,g)\n",
    "print(b)\n",
    "print(s)"
   ]
  },
  {
   "cell_type": "code",
   "execution_count": 72,
   "id": "2a01c66e",
   "metadata": {},
   "outputs": [
    {
     "name": "stdout",
     "output_type": "stream",
     "text": [
      "| 1 2 3 4 |\n",
      "| 1 2 3 4 |\n",
      "\n",
      "| 1 2 3 4 |\n",
      "| 1 2 3 4 |\n",
      "\n"
     ]
    }
   ],
   "source": [
    "def creatliststring (r):\n",
    "    tampungg=\"\"\n",
    "    for i in range(len(r)):\n",
    "        list1=\"| \"\n",
    "        for c in range(len(r[0])):\n",
    "            h=r[i][c]\n",
    "            list1=list1+str(h)+\" \"\n",
    "        tampungg=tampungg+list1+\"|\\n\"\n",
    "    return tampungg\n",
    "\n",
    "h=creatliststring(b)\n",
    "l=creatliststring(s)\n",
    "print(h)\n",
    "print(l)"
   ]
  },
  {
   "cell_type": "code",
   "execution_count": 70,
   "id": "91a49a31",
   "metadata": {},
   "outputs": [
    {
     "name": "stdout",
     "output_type": "stream",
     "text": [
      "[[1, 2, 3, 4], [1, 2, 3, 4]]\n",
      "[[1, 2, 3, 4], [1, 2, 3, 4]]\n",
      "hasil pertambahan = [[2, 4, 6, 8], [2, 4, 6, 8]]\n"
     ]
    }
   ],
   "source": [
    "def tambah(d,o):\n",
    "    if len(d)==len(o) and len(d[0])==len(o[0]):\n",
    "        tampung=[]\n",
    "        for i in range(len(d)):\n",
    "            list2=[]\n",
    "            for c in range(len(d[0])):\n",
    "                tamba=d[i][c]+o[i][c]   \n",
    "                list2.append(tamba)\n",
    "            tampung.append(list2)\n",
    "        return tampung\n",
    "print(b)\n",
    "print(s)\n",
    "u=tambah(b,s)\n",
    "print(\"hasil pertambahan =\",u)\n",
    "\n",
    "    "
   ]
  },
  {
   "cell_type": "code",
   "execution_count": 9,
   "id": "c25b8c0a",
   "metadata": {},
   "outputs": [
    {
     "name": "stdout",
     "output_type": "stream",
     "text": [
      "{0: 'apel'}\n"
     ]
    }
   ],
   "source": [
    "kamus={}\n",
    "\n",
    "kamus[0]=\"apel\"\n",
    "print(kamus)\n"
   ]
  },
  {
   "cell_type": "code",
   "execution_count": 27,
   "id": "f8e32370",
   "metadata": {},
   "outputs": [],
   "source": [
    "dictmx = {(0,3):2,(2,1):3}"
   ]
  },
  {
   "cell_type": "code",
   "execution_count": 28,
   "id": "9fb9c65c",
   "metadata": {},
   "outputs": [
    {
     "name": "stdout",
     "output_type": "stream",
     "text": [
      "masukkan baris =3\n",
      "masukkan kolom =4\n",
      "0 0 0 2 0 \n",
      "0 0 0 0 0 \n",
      "0 3 0 0 0 \n",
      "0 0 0 0 0 \n",
      "\n"
     ]
    }
   ],
   "source": [
    "def display(dicData,baris,kolom):\n",
    "    temp=''\n",
    "    for i in range(baris):\n",
    "        for j in range(kolom):\n",
    "            if dicData.get((i,j))==None:\n",
    "                temp+=\"0\"+\" \"\n",
    "            else:\n",
    "                temp+=str(dicData.get((i,j)))+\" \"\n",
    "        temp+=\"\\n\"\n",
    "    return temp\n",
    "a=int(input(\"masukkan baris =\"))\n",
    "b=int(input(\"masukkan kolom =\"))\n",
    "print(display(dictmx,4,5))"
   ]
  },
  {
   "cell_type": "code",
   "execution_count": 1,
   "id": "729ec7ca",
   "metadata": {},
   "outputs": [
    {
     "name": "stdout",
     "output_type": "stream",
     "text": [
      "baris ke- :3\n",
      "kolom ke- :2\n",
      "data =2\n",
      "masukkan data lagi(y/t) ?y\n",
      "baris ke- :5\n",
      "kolom ke- :3\n",
      "data =1\n",
      "masukkan data lagi(y/t) ?t\n",
      "{'baris': 4, 'kolom': 5, (3, 2): 2, (5, 3): 1}\n"
     ]
    }
   ],
   "source": [
    "def createSparse(jumlahbaris,jumlahkolom):\n",
    "    sparse={'baris':jumlahbaris,'kolom':jumlahkolom}\n",
    "    stop=False\n",
    "    while not(stop):\n",
    "        bar=int(input(\"baris ke- :\"))\n",
    "        kol=int(input('kolom ke- :'))\n",
    "        data=int(input('data ='))\n",
    "        sparse[(bar,kol)]=data\n",
    "        lagi=input(\"masukkan data lagi(y/t) ?\")\n",
    "        if lagi==\"t\":\n",
    "            stop=True\n",
    "    return sparse\n",
    "print(createSparse(4,5))        "
   ]
  },
  {
   "cell_type": "code",
   "execution_count": 30,
   "id": "7aa51563",
   "metadata": {},
   "outputs": [
    {
     "name": "stdout",
     "output_type": "stream",
     "text": [
      "sparse matrix 1\n",
      "0 0 0 0 0 \n",
      "0 3 0 0 0 \n",
      "0 7 0 0 0 \n",
      "0 0 0 5 0 \n",
      "\n",
      "sparse matrix 2\n",
      "0 0 0 0 0 \n",
      "0 5 0 0 0 \n",
      "0 0 0 0 0 \n",
      "0 0 0 6 0 \n",
      "\n",
      "sum matrix 1 dan 2\n",
      "0 0 0 0 0 \n",
      "0 8 0 0 0 \n",
      "0 7 0 0 0 \n",
      "0 0 0 11 0 \n",
      "\n"
     ]
    }
   ],
   "source": [
    "dict = {\"baris\":4,\"kolom\":5,(1,1):3,(3,3):5,(2,1):7}\n",
    "dictTwo = {\"baris\":dict[\"baris\"],\"kolom\":dict[\"kolom\"],(1,1):5,(3,3):6}\n",
    "\n",
    "# FUNCTION PENJUMLAHAN 2 MATRIX\n",
    "def sumSparse (dictData,dictData2):\n",
    "    temp= {\"baris\":dictData[\"baris\"],\"kolom\":dictData[\"kolom\"]}\n",
    "    for i in range (dictData[\"baris\"]):\n",
    "        for j in range (dictData[\"kolom\"]):\n",
    "            if dictData.get((i,j)) != None and dictData2.get((i,j)) != None:\n",
    "                temp[(i,j)]= dictData.get((i,j))+dictData2.get((i,j))\n",
    "            elif dictData.get((i,j)) != None and dictData2.get((i,j)) == None:\n",
    "                temp[(i,j)]= dictData.get((i,j))\n",
    "            elif dictData.get((i,j)) == None and dictData2.get((i,j)) != None:\n",
    "                temp[(i,j)]= dictData2.get((i,j))\n",
    "    return temp\n",
    "\n",
    "# FUNCTION MENAMPILKAN MATRIX\n",
    "def displaySparse (dictData):\n",
    "    temp=\"\"\n",
    "    for i in range (dictData[\"baris\"]):\n",
    "        for j in range (dictData[\"kolom\"]):\n",
    "            if dictData.get((i,j)) ==None:\n",
    "                temp+= '0' + ' '\n",
    "            else:\n",
    "                temp+=str(dictData.get((i,j))) + ' '\n",
    "        temp+='\\n'\n",
    "    return temp\n",
    "\n",
    "newDict = sumSparse(dict,dictTwo)\n",
    "print(\"sparse matrix 1\")\n",
    "print(displaySparse(dict))\n",
    "print(\"sparse matrix 2\")\n",
    "print(displaySparse(dictTwo))\n",
    "print(\"sum matrix 1 dan 2\")\n",
    "print(displaySparse(newDict))\n"
   ]
  },
  {
   "attachments": {
    "image.png": {
     "image/png": "[encoded data removed]"
    }
   },
   "cell_type": "markdown",
   "id": "403c21a8",
   "metadata": {},
   "source": [
    "![image.png](attachment:image.png)"
   ]
  },
  {
   "cell_type": "code",
   "execution_count": 3,
   "id": "6f51aca2",
   "metadata": {},
   "outputs": [],
   "source": [
    "# jawaban gambar di atas\n",
    "def invers(temp):\n",
    "    a=temp[0][0]\n",
    "    b=temp[0][1]\n",
    "    c=temp[1][0]\n",
    "    d=temp[1][1]\n",
    "    determinan=1/a*d-b*c\n",
    "    hasil1=[[d,-b],[-c,a]]\n",
    "    print(hasil1)\n",
    "    hasil=[[d*determinan,-b*determinan],[-c* determinan,a* determinan]]\n",
    "    return hasil\n"
   ]
  },
  {
   "cell_type": "code",
   "execution_count": 4,
   "id": "febf9389",
   "metadata": {},
   "outputs": [
    {
     "name": "stdout",
     "output_type": "stream",
     "text": [
      "[[8, -4], [-7, 3]]\n",
      "[[-202.66666666666666, 101.33333333333333], [177.33333333333331, -76.0]]\n"
     ]
    }
   ],
   "source": [
    "data=[[3,4],[7,8]]\n",
    "print(invers(data))"
   ]
  },
  {
   "cell_type": "code",
   "execution_count": 4,
   "id": "717a39ba",
   "metadata": {},
   "outputs": [
    {
     "name": "stdout",
     "output_type": "stream",
     "text": [
      " masukkan data ke- 0 :7\n",
      " masukkan data ke- 1 :2\n",
      " masukkan data ke- 2 :4\n",
      " masukkan data ke- 3 :6\n",
      " masukkan data ke- 4 :5\n",
      " masukkan data ke- 5 :2\n",
      " masukkan data ke- 6 :9\n",
      " masukkan data ke- 7 :5\n",
      " masukkan data ke- 8 :8\n",
      " masukkan data ke- 9 :1\n",
      "data list = [7, 2, 4, 6, 5, 2, 9, 5, 8, 1]\n",
      "data list prima = [7, 2, 5]\n"
     ]
    }
   ],
   "source": [
    "# menen tukat nilai nilai di dalam list yang termasuk bilangan prima\n",
    "def creatlist(a):\n",
    "    list1=[]\n",
    "    for i in range(a):\n",
    "        list1.append(int(input(f\" masukkan data ke- {i} :\")))\n",
    "    return list1\n",
    "def isprime(prima):\n",
    "    temp=0\n",
    "    for i in range(1,prima+1):\n",
    "        if prima%i==0:\n",
    "            temp+=1\n",
    "    if temp==2:\n",
    "        return True\n",
    "    else:\n",
    "        return False\n",
    "def createlistprim (data):\n",
    "    prima=[]\n",
    "    for i in data:\n",
    "        if isprime(i) and i not in prima:\n",
    "            prima.append(i)\n",
    "    return prima\n",
    "data=creatlist(10)\n",
    "print(\"data list =\",data)\n",
    "data1=createlistprim(data)\n",
    "print(\"data list prima =\",data1)"
   ]
  },
  {
   "cell_type": "code",
   "execution_count": 1,
   "id": "210ca8bd",
   "metadata": {},
   "outputs": [
    {
     "name": "stdout",
     "output_type": "stream",
     "text": [
      "[1, 2, 2, 2, 2]\n",
      "[1, 2, 2, 2, 2, 2, 2, 2, 2, 2]\n"
     ]
    }
   ],
   "source": [
    "a=[[1,2,2,2,2],[2,2,2,2,2]]\n",
    "s=[]\n",
    "for i in a:\n",
    "    for c in i:\n",
    "        s.append(c)\n",
    "    print(s)"
   ]
  }
 ],
 "metadata": {
  "kernelspec": {
   "display_name": "Python 3 (ipykernel)",
   "language": "python",
   "name": "python3"
  },
  "language_info": {
   "codemirror_mode": {
    "name": "ipython",
    "version": 3
   },
   "file_extension": ".py",
   "mimetype": "text/x-python",
   "name": "python",
   "nbconvert_exporter": "python",
   "pygments_lexer": "ipython3",
   "version": "3.9.12"
  }
 },
 "nbformat": 4,
 "nbformat_minor": 5
}
